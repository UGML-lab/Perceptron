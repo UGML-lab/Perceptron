{
 "cells": [
  {
   "cell_type": "markdown",
   "id": "8599c951-8489-45d4-911c-4596ddfcec83",
   "metadata": {},
   "source": [
    "### The Engineering Model\n",
    "<hr>\n",
    "<p>The <b>engineering model</b> of a neuron refers to a simplified, practical abstraction of how a biological neuron functions. The engineering model is developed for use in artificial neural networks (ANNs). This involves breaking down the behavior of a neuron into computational components that can be easily implemented in machine learning models. The image shows the biological neuron as well as the engineering model representation.\n",
    "</p>"
   ]
  },
  {
   "cell_type": "markdown",
   "id": "d35ab66b-a8a0-4a19-8d6b-d30bc463bd69",
   "metadata": {},
   "source": [
    "![alt text](perceptron_image.png)\n"
   ]
  },
  {
   "cell_type": "markdown",
   "id": "d4f7089a-eec1-439c-9fe6-fd93b2f4b356",
   "metadata": {},
   "source": [
    "##### Objectives\n",
    "1. Learn how the parameters (weights, biases, and activation functions) enable neurons to process inputs and generate outputs.\n",
    "2. Explore how adjusting the parameters shapes decision boundaries.\n",
    "3. Use the neuron model to design and simulate logical operations."
   ]
  },
  {
   "cell_type": "markdown",
   "id": "53c38ce2-424d-4a42-aeae-6f705e34ae98",
   "metadata": {},
   "source": [
    "#### Mathematical Foundation\n",
    "<hr>\n",
    "\n",
    "###### Linear function\n",
    "_**f(w, b) = w<sup>T</sup>x + b**_\n",
    "\n",
    "<hr>\n",
    "\n",
    "###### Activation function\n",
    "![alt text](activation_function.png)\n",
    "\n",
    "![alt text](step_func.jpg)\n",
    "<p>Within the context of logic gates, the output of an operation is either <b>1</b> or <b>0</b> \n",
    "</p>\n",
    "\n",
    "#### Weights Update\n",
    "<hr>\n",
    "\n",
    "![alt text](update.png)"
   ]
  },
  {
   "cell_type": "markdown",
   "id": "47bcf39b-e293-4609-8934-c7fd29f739be",
   "metadata": {},
   "source": [
    "### Activity\n",
    "\n",
    "1. We are going to write the code to implement this logic\n",
    "2. We shall use numpy and basic arithmetic operations for this activity "
   ]
  },
  {
   "cell_type": "code",
   "execution_count": null,
   "id": "007a639f-d2d6-4d45-b87e-2ff34b4f4db6",
   "metadata": {},
   "outputs": [],
   "source": []
  }
 ],
 "metadata": {
  "kernelspec": {
   "display_name": "Python 3 (ipykernel)",
   "language": "python",
   "name": "python3"
  },
  "language_info": {
   "codemirror_mode": {
    "name": "ipython",
    "version": 3
   },
   "file_extension": ".py",
   "mimetype": "text/x-python",
   "name": "python",
   "nbconvert_exporter": "python",
   "pygments_lexer": "ipython3",
   "version": "3.11.4"
  }
 },
 "nbformat": 4,
 "nbformat_minor": 5
}
