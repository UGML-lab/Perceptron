{
 "cells": [
  {
   "cell_type": "markdown",
   "id": "8599c951-8489-45d4-911c-4596ddfcec83",
   "metadata": {},
   "source": [
    "### The Engineering Model\n",
    "<hr>\n",
    "<p>The <b>engineering model</b> of a neuron refers to a simplified, practical abstraction of how a biological neuron functions. The engineering model is developed for use in artificial neural networks (ANNs). This involves breaking down the behavior of a neuron into computational components that can be easily implemented in machine learning models. The image shows the biological neuron as well as the engineering model representation.\n",
    "</p>"
   ]
  },
  {
   "cell_type": "markdown",
   "id": "d35ab66b-a8a0-4a19-8d6b-d30bc463bd69",
   "metadata": {},
   "source": [
    "![alt text](perceptron_image.png)\n"
   ]
  },
  {
   "cell_type": "markdown",
   "id": "d4f7089a-eec1-439c-9fe6-fd93b2f4b356",
   "metadata": {},
   "source": [
    "##### Objectives\n",
    "1. Learn how the parameters (weights, biases, and activation functions) enable neurons to process inputs and generate outputs.\n",
    "2. Explore how adjusting the parameters shapes decision boundaries.\n",
    "3. Use the neuron model to design and simulate logical operations."
   ]
  },
  {
   "cell_type": "markdown",
   "id": "53c38ce2-424d-4a42-aeae-6f705e34ae98",
   "metadata": {},
   "source": [
    "#### Mathematical Foundation\n",
    "<hr>\n",
    "\n",
    "###### Linear function\n",
    "_**f(w, b) = w<sup>T</sup>x + b**_\n",
    "\n",
    "<hr>\n",
    "\n",
    "###### Activation function\n",
    "![alt text](activation_function.png)\n",
    "\n",
    "![alt text](step_func.jpg)\n",
    "<p>Within the context of logic gates, the output of an operation is either <b>1</b> or <b>0</b> \n",
    "</p>\n",
    "\n",
    "#### Weights Update\n",
    "<hr>\n",
    "\n",
    "![alt text](update.png)"
   ]
  },
  {
   "cell_type": "markdown",
   "id": "47bcf39b-e293-4609-8934-c7fd29f739be",
   "metadata": {},
   "source": [
    "### Activity\n",
    "\n",
    "1. We are going to write the code to implement this logic\n",
    "2. We shall use numpy and basic arithmetic operations for this activity "
   ]
  },
  {
   "cell_type": "code",
   "execution_count": null,
   "id": "007a639f-d2d6-4d45-b87e-2ff34b4f4db6",
   "metadata": {},
   "outputs": [],
   "source": []
  },
  {
   "cell_type": "code",
   "execution_count": 20,
   "id": "bad967ed-5d9e-4bfc-8dff-c92f199dcdef",
   "metadata": {},
   "outputs": [],
   "source": [
    "import numpy as np\n",
    "class Perceptron:\n",
    "    def __init__(self, learning_rate=0.01, epochs=100):\n",
    "        self.learning_rate = learning_rate\n",
    "        self.epochs = epochs\n",
    "        self.activation_function = self.activation_function\n",
    "        self.weights = None\n",
    "        self.bias = None\n",
    "\n",
    "    def fit(self, X, y):\n",
    "        n_samples, n_features = X.shape\n",
    "        self.weights = np.zeros(n_features)\n",
    "        self.bias = 0\n",
    "\n",
    "        y_ = np.array([1 if i >0 else 0 for i in y])\n",
    "\n",
    "        for _ in range(self.epochs):\n",
    "            for index_x, x_i in enumerate(X):\n",
    "                linear_output = np.dot(self.weights, x_i) + self.bias\n",
    "                y_predicted = self.activation_function(linear_output)\n",
    "\n",
    "                update = self.learning_rate*(y_[index_x]-y_predicted)\n",
    "                self.weights += (update*x_i)\n",
    "                self.bais = update\n",
    "                \n",
    "\n",
    "    def predict(self, X):\n",
    "        linear_output = np.dot(self.weights, X) + self.bias\n",
    "        y_predicted = self.activation_function(linear_output)\n",
    "        return y_predicted\n",
    "\n",
    "    def activation_function(self, x):\n",
    "        return np.where(x>=0, 1, 0)"
   ]
  },
  {
   "cell_type": "code",
   "execution_count": 21,
   "id": "2e40d196-29aa-48e1-94e1-939437501f7a",
   "metadata": {},
   "outputs": [],
   "source": [
    "model = Perceptron()"
   ]
  },
  {
   "cell_type": "code",
   "execution_count": 22,
   "id": "344aca9c-d118-434a-ae59-fa83f1ca5ff4",
   "metadata": {},
   "outputs": [
    {
     "data": {
      "text/plain": [
       "'\\nOR GATE\\nx1 | x2 | y\\n0  |  0 | 0\\n0  |  1 | 1\\n1  |  0 | 1\\n1  |  1 | 1\\n\\n'"
      ]
     },
     "execution_count": 22,
     "metadata": {},
     "output_type": "execute_result"
    }
   ],
   "source": [
    "\"\"\"\n",
    "OR GATE\n",
    "x1 | x2 | y\n",
    "0  |  0 | 0\n",
    "0  |  1 | 1\n",
    "1  |  0 | 1\n",
    "1  |  1 | 1\n",
    "\n",
    "\"\"\""
   ]
  },
  {
   "cell_type": "code",
   "execution_count": 23,
   "id": "92742bc9-4a4f-45b4-900e-f9beb584254d",
   "metadata": {},
   "outputs": [],
   "source": [
    "input_data = np.array([[0, 0], [0, 1], [1, 0]])"
   ]
  },
  {
   "cell_type": "code",
   "execution_count": 24,
   "id": "063d32cc-91f5-4d0f-9525-fbecce84ae97",
   "metadata": {},
   "outputs": [
    {
     "data": {
      "text/plain": [
       "array([[0, 0],\n",
       "       [0, 1],\n",
       "       [1, 0]])"
      ]
     },
     "execution_count": 24,
     "metadata": {},
     "output_type": "execute_result"
    }
   ],
   "source": [
    "input_data"
   ]
  },
  {
   "cell_type": "code",
   "execution_count": 25,
   "id": "c359fc61-357f-483c-beb3-8c4ef1bf9423",
   "metadata": {},
   "outputs": [],
   "source": [
    "y_output = np.array([0, 1, 1])"
   ]
  },
  {
   "cell_type": "code",
   "execution_count": 26,
   "id": "fb3db1f6-7378-4002-b531-adafab1613cd",
   "metadata": {},
   "outputs": [
    {
     "data": {
      "text/plain": [
       "array([0, 1, 1])"
      ]
     },
     "execution_count": 26,
     "metadata": {},
     "output_type": "execute_result"
    }
   ],
   "source": [
    "y_output"
   ]
  },
  {
   "cell_type": "code",
   "execution_count": 27,
   "id": "7613125b-1b75-4dc3-aebd-66192dd6e198",
   "metadata": {},
   "outputs": [],
   "source": [
    "model.fit(input_data, y_output)"
   ]
  },
  {
   "cell_type": "code",
   "execution_count": 28,
   "id": "6da06cf2-966b-4ed2-ab51-b64490d70ddb",
   "metadata": {},
   "outputs": [],
   "source": [
    "new_data = np.array([1, 1])"
   ]
  },
  {
   "cell_type": "code",
   "execution_count": 29,
   "id": "9a0898cc-087c-4f86-adad-9d3a96809925",
   "metadata": {},
   "outputs": [
    {
     "data": {
      "text/plain": [
       "array(1)"
      ]
     },
     "execution_count": 29,
     "metadata": {},
     "output_type": "execute_result"
    }
   ],
   "source": [
    "model.predict(new_data)"
   ]
  },
  {
   "cell_type": "code",
   "execution_count": null,
   "id": "c22f0872-e878-4220-8caa-3ba2ba008766",
   "metadata": {},
   "outputs": [],
   "source": []
  }
 ],
 "metadata": {
  "kernelspec": {
   "display_name": "Python 3 (ipykernel)",
   "language": "python",
   "name": "python3"
  },
  "language_info": {
   "codemirror_mode": {
    "name": "ipython",
    "version": 3
   },
   "file_extension": ".py",
   "mimetype": "text/x-python",
   "name": "python",
   "nbconvert_exporter": "python",
   "pygments_lexer": "ipython3",
   "version": "3.11.4"
  }
 },
 "nbformat": 4,
 "nbformat_minor": 5
}
